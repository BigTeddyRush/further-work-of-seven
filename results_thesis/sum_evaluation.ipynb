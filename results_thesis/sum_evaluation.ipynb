{
 "cells": [
  {
   "cell_type": "markdown",
   "metadata": {},
   "source": [
    "# Evaluation"
   ]
  },
  {
   "cell_type": "markdown",
   "metadata": {},
   "source": [
    "## Results"
   ]
  },
  {
   "cell_type": "markdown",
   "metadata": {},
   "source": [
    "#### Auto-Mode\n",
    "Nutzt eine Heuristic, eine SInE Strategy und eine Selection Function\n",
    "#### Satauto-Mode\n",
    "Nutzt eine Heuristic und eine Selection Function"
   ]
  },
  {
   "cell_type": "markdown",
   "metadata": {},
   "source": [
    "### Importe"
   ]
  },
  {
   "cell_type": "code",
   "execution_count": 25,
   "metadata": {},
   "outputs": [],
   "source": [
    "import json\n",
    "import numpy as np\n",
    "import pandas as pd\n",
    "import matplotlib.pyplot as plt\n",
    "import seaborn as sns"
   ]
  },
  {
   "cell_type": "markdown",
   "metadata": {},
   "source": [
    "### Ergebnisse"
   ]
  },
  {
   "cell_type": "code",
   "execution_count": 94,
   "metadata": {},
   "outputs": [],
   "source": [
    "def summary_grafic(path: str, title: str, output_path: str):\n",
    "    with open(path, 'r') as file:\n",
    "        data = json.load(file)\n",
    "        \n",
    "    # Result categories\n",
    "    categories = [\"ProverResult.TIME_OUT\", \"ProverResult.PROOF_FOUND\", \"ProverResult.GAVE_UP\"]\n",
    "\n",
    "    # Extract data for plotting\n",
    "    files = list(data.keys())\n",
    "    n_files = len(files)\n",
    "    n_categories = len(categories)\n",
    "\n",
    "    # Initialize an array for category counts\n",
    "    category_counts = np.zeros((n_files, n_categories), dtype=int)\n",
    "\n",
    "    # Fill the category counts\n",
    "    for i, (file, results) in enumerate(data.items()):\n",
    "        for j, category in enumerate(categories):\n",
    "            category_counts[i, j] = results.get(category, 0)\n",
    "\n",
    "    # Choose a color palette\n",
    "    colors = sns.color_palette('deep', n_categories)\n",
    "\n",
    "    # Create the plot\n",
    "    fig, ax = plt.subplots(figsize=(12, 6))\n",
    "    bar_width = 0.25\n",
    "    index = np.arange(n_files)\n",
    "\n",
    "    # Plot a bar for each category with the chosen colors\n",
    "    bars = []\n",
    "    for j, (category, color) in enumerate(zip(categories, colors)):\n",
    "        bars.append(ax.bar(index + j * bar_width, category_counts[:, j], bar_width, label=category, color=color))\n",
    "\n",
    "    # Add labels, legend, and title\n",
    "    ax.set_xlabel('Files', fontsize=12)\n",
    "    ax.set_ylabel('Counts', fontsize=12)\n",
    "    ax.set_title(f'Summary of Prover Results: {title}', fontsize=14, fontweight='bold')\n",
    "    ax.set_xticks(index + bar_width * (n_categories - 1) / 2)\n",
    "    ax.set_xticklabels(files, rotation=45, ha='right', fontsize=10)\n",
    "\n",
    "    # Set y-axis limit\n",
    "    ax.set_ylim(0, 1000)\n",
    "\n",
    "    # Adjust the legend\n",
    "    ax.legend(fontsize=10, title='Category', title_fontsize='13', loc='upper left', bbox_to_anchor=(1, 1))\n",
    "\n",
    "    # Introduce horizontal grid lines\n",
    "    ax.yaxis.grid(True, linestyle='--', which='major', color='gray', alpha=0.7)\n",
    "    ax.set_axisbelow(True)\n",
    "\n",
    "    # Add count labels above the bars\n",
    "    for bar_group in bars:\n",
    "        for bar in bar_group:\n",
    "            yval = bar.get_height()\n",
    "            if yval > 950:\n",
    "                label_position = yval - 20\n",
    "                label_va = 'top'\n",
    "            else:\n",
    "                label_position = yval + 10\n",
    "                label_va = 'bottom'\n",
    "            ax.text(\n",
    "                bar.get_x() + bar.get_width() / 2,\n",
    "                label_position,\n",
    "                int(yval),\n",
    "                ha='center', va=label_va, fontsize=9, color='black', weight='bold'\n",
    "            )\n",
    "\n",
    "    # Save plot as a PDF with tight layout\n",
    "    path_prefix = \"/Users/eltorrogrande/BachelorInformatik/BachelorThesis/further-work-of-seven/text/\"\n",
    "    output_path = path_prefix + output_path\n",
    "    plt.savefig(output_path, format='pdf', bbox_inches='tight')\n",
    "    plt.close(fig)\n",
    "\n",
    "# Usage example\n",
    "# summary_grafic('summary_auto.json', \"Auto-Mode\", 'auto_mode_output.pdf')"
   ]
  },
  {
   "cell_type": "code",
   "execution_count": 95,
   "metadata": {},
   "outputs": [],
   "source": [
    "summary_grafic('summary_auto.json', \"Auto-Mode\", \"auto_mode_output.pdf\")"
   ]
  },
  {
   "cell_type": "code",
   "execution_count": 98,
   "metadata": {},
   "outputs": [],
   "source": [
    "summary_grafic('./summary_satauto.json', \"Satauto-Mode\", \"satauto_mode_output.pdf\")"
   ]
  },
  {
   "cell_type": "code",
   "execution_count": 99,
   "metadata": {},
   "outputs": [],
   "source": [
    "summary_grafic('./summary_otherModule.json', \"Different Models\", \"different_mode_output.pdf\")"
   ]
  },
  {
   "cell_type": "code",
   "execution_count": 100,
   "metadata": {},
   "outputs": [],
   "source": [
    "summary_grafic('./summary_starter.json', \"Comparison\", \"standard_mode_output.pdf\")"
   ]
  },
  {
   "cell_type": "code",
   "execution_count": 101,
   "metadata": {},
   "outputs": [],
   "source": [
    "summary_grafic('./summary_vampire.json', \"Vampire\", \"vampire_mode_output.pdf\")"
   ]
  }
 ],
 "metadata": {
  "kernelspec": {
   "display_name": ".venv",
   "language": "python",
   "name": "python3"
  },
  "language_info": {
   "codemirror_mode": {
    "name": "ipython",
    "version": 3
   },
   "file_extension": ".py",
   "mimetype": "text/x-python",
   "name": "python",
   "nbconvert_exporter": "python",
   "pygments_lexer": "ipython3",
   "version": "3.11.9"
  }
 },
 "nbformat": 4,
 "nbformat_minor": 2
}
