{
 "cells": [
  {
   "cell_type": "markdown",
   "metadata": {},
   "source": [
    "INFO: die zusätzlichen Axiome sind die 5 häufigsten Axiome der Beweise aus dem Run: auto_nounion_1000  \n",
    "Die Axiome sind:\n",
    "- mergeA257\n",
    "- mergeA3229\n",
    "- predefinitionsA12\n",
    "- predefinitionsA15\n",
    "- predefinitionsA24  \n",
    "\n",
    "Auf diese Axiome wurde die SiNE Strategie b2, k3, n10 angewendet"
   ]
  }
 ],
 "metadata": {
  "language_info": {
   "name": "python"
  }
 },
 "nbformat": 4,
 "nbformat_minor": 2
}
