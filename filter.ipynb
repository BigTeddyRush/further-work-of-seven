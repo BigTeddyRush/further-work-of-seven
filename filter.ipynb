{
 "cells": [
  {
   "cell_type": "code",
   "execution_count": 18,
   "metadata": {},
   "outputs": [
    {
     "name": "stdout",
     "output_type": "stream",
     "text": [
      "Filtered data saved to filtered_output.json\n"
     ]
    }
   ],
   "source": [
    "import json\n",
    "import re\n",
    "\n",
    "# Load JSON data from file\n",
    "with open('satauto_whitebox_union_n160_b20_k30_timer_withA12_withProofObject.json', 'r') as file:\n",
    "    data = json.load(file)\n",
    "\n",
    "# Initialize a dictionary to store results\n",
    "filtered_data = {}\n",
    "\n",
    "# Iterate through the JSON data\n",
    "for key, value in data.items():\n",
    "    # The second item in the list is the string that contains the content you are interested in\n",
    "    content = value[1]\n",
    "    \n",
    "    # Find all components within parentheses that contain the word 'axiom'\n",
    "    matches = re.findall(r'\\(([^)]*axiom[^)]*)\\)', content)\n",
    "    \n",
    "    # If any matches are found, add them to the filtered_data dictionary\n",
    "    if matches:\n",
    "        filtered_data[key] = matches\n",
    "\n",
    "# Write the filtered data to a new JSON file\n",
    "with open('filtered_output_satauto.json', 'w') as outfile:\n",
    "    json.dump(filtered_data, outfile, indent=2)\n",
    "\n",
    "print(\"Filtered data saved to filtered_output.json\")"
   ]
  },
  {
   "cell_type": "code",
   "execution_count": 19,
   "metadata": {},
   "outputs": [],
   "source": [
    "import json\n",
    "from collections import Counter\n",
    "\n",
    "# Load JSON data from the file\n",
    "with open('filtered_output_satauto.json', 'r') as file:\n",
    "    data = json.load(file)\n",
    "\n",
    "# Initialize a list to store all values\n",
    "all_values = []\n",
    "\n",
    "# Iterate over each item in the loaded data\n",
    "for key, values in data.items():\n",
    "    all_values.extend(values)\n",
    "\n",
    "# Count occurrences of each value using Counter from the collections module\n",
    "value_counts = Counter(all_values)\n",
    "\n",
    "# Optionally, save the counts to a JSON file\n",
    "with open('value_counts_satauto.json', 'w') as outfile:\n",
    "    json.dump(value_counts, outfile, indent=2)"
   ]
  },
  {
   "cell_type": "code",
   "execution_count": 20,
   "metadata": {},
   "outputs": [
    {
     "ename": "TypeError",
     "evalue": "'dict' object is not callable",
     "output_type": "error",
     "traceback": [
      "\u001b[0;31m---------------------------------------------------------------------------\u001b[0m",
      "\u001b[0;31mTypeError\u001b[0m                                 Traceback (most recent call last)",
      "Cell \u001b[0;32mIn[20], line 5\u001b[0m\n\u001b[1;32m      2\u001b[0m \u001b[38;5;28;01mwith\u001b[39;00m \u001b[38;5;28mopen\u001b[39m(\u001b[38;5;124m'\u001b[39m\u001b[38;5;124mvalue_counts_satauto.json\u001b[39m\u001b[38;5;124m'\u001b[39m, \u001b[38;5;124m'\u001b[39m\u001b[38;5;124mr\u001b[39m\u001b[38;5;124m'\u001b[39m) \u001b[38;5;28;01mas\u001b[39;00m file:\n\u001b[1;32m      3\u001b[0m     data \u001b[38;5;241m=\u001b[39m json\u001b[38;5;241m.\u001b[39mload(file)\n\u001b[0;32m----> 5\u001b[0m \u001b[38;5;28msorted\u001b[39m \u001b[38;5;241m=\u001b[39m {k: v \u001b[38;5;28;01mfor\u001b[39;00m k, v \u001b[38;5;129;01min\u001b[39;00m \u001b[38;5;28;43msorted\u001b[39;49m\u001b[43m(\u001b[49m\u001b[43mdata\u001b[49m\u001b[38;5;241;43m.\u001b[39;49m\u001b[43mitems\u001b[49m\u001b[43m(\u001b[49m\u001b[43m)\u001b[49m\u001b[43m,\u001b[49m\u001b[43m \u001b[49m\u001b[43mkey\u001b[49m\u001b[38;5;241;43m=\u001b[39;49m\u001b[38;5;28;43;01mlambda\u001b[39;49;00m\u001b[43m \u001b[49m\u001b[43mitem\u001b[49m\u001b[43m:\u001b[49m\u001b[43m \u001b[49m\u001b[43mitem\u001b[49m\u001b[43m[\u001b[49m\u001b[38;5;241;43m1\u001b[39;49m\u001b[43m]\u001b[49m\u001b[43m)\u001b[49m}\n",
      "\u001b[0;31mTypeError\u001b[0m: 'dict' object is not callable"
     ]
    }
   ],
   "source": [
    "# Load JSON data from the file\n",
    "with open('value_counts_satauto.json', 'r') as file:\n",
    "    data = json.load(file)\n",
    "\n",
    "sorted = {k: v for k, v in sorted(data.items(), key=lambda item: item[1])}"
   ]
  },
  {
   "cell_type": "code",
   "execution_count": null,
   "metadata": {},
   "outputs": [],
   "source": []
  }
 ],
 "metadata": {
  "kernelspec": {
   "display_name": ".venv",
   "language": "python",
   "name": "python3"
  },
  "language_info": {
   "codemirror_mode": {
    "name": "ipython",
    "version": 3
   },
   "file_extension": ".py",
   "mimetype": "text/x-python",
   "name": "python",
   "nbconvert_exporter": "python",
   "pygments_lexer": "ipython3",
   "version": "3.11.9"
  }
 },
 "nbformat": 4,
 "nbformat_minor": 2
}
